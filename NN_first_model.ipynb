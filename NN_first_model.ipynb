version https://git-lfs.github.com/spec/v1
oid sha256:51a10b37d6bdfbc9397b7d0dd3488b14f55797439e906d7608b0c155448d59a8
size 28049
